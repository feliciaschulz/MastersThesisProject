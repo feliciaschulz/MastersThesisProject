{
 "cells": [
  {
   "cell_type": "markdown",
   "metadata": {},
   "source": [
    "# PyBaSiC and Ashlar Multichannel\n",
    "The notebook combines PyBaSiC with Ashlar"
   ]
  },
  {
   "cell_type": "markdown",
   "metadata": {},
   "source": [
    "### Importing the package"
   ]
  },
  {
   "cell_type": "code",
   "execution_count": 1,
   "metadata": {},
   "outputs": [],
   "source": [
    "#%pip install basicpy\n",
    "#%pip install nd2\n",
    "#%pip install ashlar\n",
    "#%pip install cv2\n",
    "#%pip install opencv-python"
   ]
  },
  {
   "cell_type": "code",
   "execution_count": 2,
   "metadata": {},
   "outputs": [
    {
     "ename": "ModuleNotFoundError",
     "evalue": "No module named 'basicpy'",
     "output_type": "error",
     "traceback": [
      "\u001b[0;31m---------------------------------------------------------------------------\u001b[0m",
      "\u001b[0;31mModuleNotFoundError\u001b[0m                       Traceback (most recent call last)",
      "\u001b[0;32m<ipython-input-2-3307b9db17b5>\u001b[0m in \u001b[0;36m<module>\u001b[0;34m\u001b[0m\n\u001b[1;32m      1\u001b[0m \u001b[0;32mimport\u001b[0m \u001b[0mos\u001b[0m\u001b[0;34m\u001b[0m\u001b[0;34m\u001b[0m\u001b[0m\n\u001b[0;32m----> 2\u001b[0;31m \u001b[0;32mfrom\u001b[0m \u001b[0mbasicpy\u001b[0m \u001b[0;32mimport\u001b[0m \u001b[0mBaSiC\u001b[0m\u001b[0;34m\u001b[0m\u001b[0;34m\u001b[0m\u001b[0m\n\u001b[0m\u001b[1;32m      3\u001b[0m \u001b[0;32mfrom\u001b[0m \u001b[0mbasicpy\u001b[0m \u001b[0;32mimport\u001b[0m \u001b[0mdatasets\u001b[0m \u001b[0;32mas\u001b[0m \u001b[0mbdata\u001b[0m\u001b[0;34m\u001b[0m\u001b[0;34m\u001b[0m\u001b[0m\n\u001b[1;32m      4\u001b[0m \u001b[0;32mfrom\u001b[0m \u001b[0mmatplotlib\u001b[0m \u001b[0;32mimport\u001b[0m \u001b[0mpyplot\u001b[0m \u001b[0;32mas\u001b[0m \u001b[0mplt\u001b[0m\u001b[0;34m\u001b[0m\u001b[0;34m\u001b[0m\u001b[0m\n\u001b[1;32m      5\u001b[0m \u001b[0;32mimport\u001b[0m \u001b[0mnumpy\u001b[0m \u001b[0;32mas\u001b[0m \u001b[0mnp\u001b[0m\u001b[0;34m\u001b[0m\u001b[0;34m\u001b[0m\u001b[0m\n",
      "\u001b[0;31mModuleNotFoundError\u001b[0m: No module named 'basicpy'"
     ]
    }
   ],
   "source": [
    "import os\n",
    "from basicpy import BaSiC\n",
    "from basicpy import datasets as bdata\n",
    "from matplotlib import pyplot as plt\n",
    "import numpy as np\n",
    "import nd2\n",
    "import skimage\n",
    "import tifffile\n",
    "import pandas as pd\n",
    "import cupy as cp\n",
    "\n",
    "mempool = cp.get_default_memory_pool()\n",
    "pinned_mempool = cp.get_default_pinned_memory_pool()"
   ]
  },
  {
   "cell_type": "markdown",
   "metadata": {},
   "source": [
    "### Reading the input images"
   ]
  },
  {
   "cell_type": "code",
   "execution_count": 5,
   "metadata": {},
   "outputs": [
    {
     "ename": "FileNotFoundError",
     "evalue": "[Errno 2] No such file or directory: '/media/'",
     "output_type": "error",
     "traceback": [
      "\u001b[0;31m---------------------------------------------------------------------------\u001b[0m",
      "\u001b[0;31mFileNotFoundError\u001b[0m                         Traceback (most recent call last)",
      "\u001b[0;32m<ipython-input-5-4ff6f6465419>\u001b[0m in \u001b[0;36m<module>\u001b[0;34m\u001b[0m\n\u001b[1;32m      3\u001b[0m \u001b[0mtmp_path\u001b[0m \u001b[0;34m=\u001b[0m \u001b[0;34m\"/tmp/basic\"\u001b[0m\u001b[0;34m\u001b[0m\u001b[0;34m\u001b[0m\u001b[0m\n\u001b[1;32m      4\u001b[0m \u001b[0mget_ipython\u001b[0m\u001b[0;34m(\u001b[0m\u001b[0;34m)\u001b[0m\u001b[0;34m.\u001b[0m\u001b[0mrun_line_magic\u001b[0m\u001b[0;34m(\u001b[0m\u001b[0;34m'mkdir'\u001b[0m\u001b[0;34m,\u001b[0m \u001b[0;34m'-p $tmp_path '\u001b[0m\u001b[0;34m)\u001b[0m\u001b[0;34m\u001b[0m\u001b[0;34m\u001b[0m\u001b[0m\n\u001b[0;32m----> 5\u001b[0;31m \u001b[0mos\u001b[0m\u001b[0;34m.\u001b[0m\u001b[0mchdir\u001b[0m\u001b[0;34m(\u001b[0m\u001b[0mbase_path\u001b[0m\u001b[0;34m)\u001b[0m\u001b[0;34m\u001b[0m\u001b[0;34m\u001b[0m\u001b[0m\n\u001b[0m\u001b[1;32m      6\u001b[0m \u001b[0mget_ipython\u001b[0m\u001b[0;34m(\u001b[0m\u001b[0;34m)\u001b[0m\u001b[0;34m.\u001b[0m\u001b[0msystem\u001b[0m\u001b[0;34m(\u001b[0m\u001b[0;34m'ls'\u001b[0m\u001b[0;34m)\u001b[0m\u001b[0;34m\u001b[0m\u001b[0;34m\u001b[0m\u001b[0m\n",
      "\u001b[0;31mFileNotFoundError\u001b[0m: [Errno 2] No such file or directory: '/media/'"
     ]
    }
   ],
   "source": [
    "base_path = '/media/'\n",
    "export_path = '/media/'\n",
    "tmp_path = \"/tmp/basic\"\n",
    "%mkdir -p $tmp_path \n",
    "os.chdir(base_path)\n",
    "!ls"
   ]
  },
  {
   "cell_type": "code",
   "execution_count": 4,
   "metadata": {},
   "outputs": [],
   "source": [
    "sampleName = \"Antigencycle\"\n",
    "DAPIchannel = 4 #0-based index\n",
    "outfile = sampleName + \".ome.tif\"\n",
    "##Test {channel} for splitting output into individual colors\n",
    "infile = sampleName + \".nd2\""
   ]
  },
  {
   "cell_type": "code",
   "execution_count": 5,
   "metadata": {
    "tags": []
   },
   "outputs": [],
   "source": [
    "infile_array_all = nd2.imread(infile, xarray=True, dask=True)"
   ]
  },
  {
   "cell_type": "code",
   "execution_count": 6,
   "metadata": {},
   "outputs": [],
   "source": [
    "infile_array_all = nd2.imread(infile)"
   ]
  },
  {
   "cell_type": "code",
   "execution_count": 11,
   "metadata": {},
   "outputs": [
    {
     "data": {
      "text/plain": [
       "4"
      ]
     },
     "execution_count": 11,
     "metadata": {},
     "output_type": "execute_result"
    }
   ],
   "source": [
    "len(infile_array_all.shape)"
   ]
  },
  {
   "cell_type": "code",
   "execution_count": 12,
   "metadata": {
    "tags": []
   },
   "outputs": [
    {
     "data": {
      "text/plain": [
       "(221, 6, 2048, 2048)"
      ]
     },
     "execution_count": 12,
     "metadata": {},
     "output_type": "execute_result"
    }
   ],
   "source": [
    "infile_array_all.shape"
   ]
  },
  {
   "cell_type": "code",
   "execution_count": 13,
   "metadata": {},
   "outputs": [],
   "source": [
    "#Remove previous flatfield\n",
    "#if os.path.exists(export_path+'flatfield.tif'):\n",
    "#    os.unlink(export_path+'flatfield.tif')\n",
    "#if os.path.exists(export_path+'darkfield.tif'):\n",
    "#    os.unlink(export_path+'darkfield.tif')"
   ]
  },
  {
   "cell_type": "code",
   "execution_count": 14,
   "metadata": {},
   "outputs": [],
   "source": [
    "#PyBASiC settings\n",
    "#from pybasic import settings\n",
    "#settings.lambda_flatfield = 9.5\n",
    "\n",
    "#Flatfield regularization parameter (default = 0).\n",
    "#If you set the flatfield regularization parameter to 0 or a negative value, an internally estimated value is used. We recommend to use internally estimated value. High values (eg. 9.5) increase the spatial regularization strength, yielding a more smooth flat-field. A default value estimated from input images.\n",
    "\n",
    "#settings.lambda_darkfield = 9.5\n",
    "#Dark-field regularization parameter (default = 0).\n",
    "\n",
    "#If you set the darkfield regularization parameter to 0 or a negative value, an internally estimated value is used. We recommend to use internally estimated value. High values (eg. 9.5) increase the spatial regularization strength, yielding a more smooth dark-field. A default value estimated from input images.\n",
    "\n",
    "#settings.lambda_flatfield"
   ]
  },
  {
   "cell_type": "code",
   "execution_count": 15,
   "metadata": {},
   "outputs": [
    {
     "name": "stdout",
     "output_type": "stream",
     "text": [
      "Running BASiC on channel: 1 of 6\n",
      "Running BASiC on channel: 2 of 6\n",
      "Running BASiC on channel: 3 of 6\n"
     ]
    },
    {
     "name": "stderr",
     "output_type": "stream",
     "text": [
      "Reweighting did not converge.\n"
     ]
    },
    {
     "name": "stdout",
     "output_type": "stream",
     "text": [
      "Running BASiC on channel: 4 of 6\n",
      "Running BASiC on channel: 5 of 6\n",
      "Running BASiC on channel: 6 of 6\n"
     ]
    }
   ],
   "source": [
    "flatfield_stack = []\n",
    "darkfield_stack = []\n",
    "\n",
    "if len(infile_array_all.shape) == 4:\n",
    "    noChannel = infile_array_all.shape[1]\n",
    "else:\n",
    "    noChannel = 1\n",
    "    \n",
    "for i in range(noChannel):\n",
    "    print(\"Running BASiC on channel: \" + str((i+1)) + \" of \" +  str(noChannel))\n",
    "    #Select channel\n",
    "    if noChannel == 1:\n",
    "        infile_array = infile_array_all\n",
    "    else:\n",
    "        infile_array = infile_array_all[:,i,:,:]\n",
    "\n",
    "    #Run PyBaSiC background calculator\n",
    "    basic = BaSiC(get_darkfield=True, smoothness_flatfield=1)\n",
    "    basic.fit(infile_array)\n",
    "    \n",
    "    #Append Darkfield and Flatfield files \n",
    "    flatfield_stack.append(basic.flatfield[None,:])\n",
    "    darkfield_stack.append(basic.darkfield[None,:])"
   ]
  },
  {
   "cell_type": "code",
   "execution_count": 16,
   "metadata": {},
   "outputs": [],
   "source": [
    "if noChannel == 1:\n",
    "    tifffile.imwrite(export_path+'flatfield.tif',flatfield)\n",
    "    tifffile.imwrite(export_path+'darkfield.tif',darkfield)  \n",
    "else:\n",
    "    #Merge list into 3D numpy array and save to multi-image tiffs\n",
    "    tifffile.imwrite(export_path+'flatfield.tif',np.vstack(flatfield_stack))\n",
    "    tifffile.imwrite(export_path+'darkfield.tif',np.vstack(darkfield_stack))"
   ]
  },
  {
   "cell_type": "markdown",
   "metadata": {},
   "source": [
    "## Show output flatfield and darkfield components"
   ]
  },
  {
   "cell_type": "code",
   "execution_count": 17,
   "metadata": {},
   "outputs": [
    {
     "data": {
      "text/plain": [
       "(6, 2048, 2048)"
      ]
     },
     "execution_count": 17,
     "metadata": {},
     "output_type": "execute_result"
    }
   ],
   "source": [
    "flatFile = skimage.io.imread(export_path+'flatfield.tif')\n",
    "flatFile.shape"
   ]
  },
  {
   "cell_type": "code",
   "execution_count": 18,
   "metadata": {},
   "outputs": [
    {
     "data": {
      "text/plain": [
       "3"
      ]
     },
     "execution_count": 18,
     "metadata": {},
     "output_type": "execute_result"
    }
   ],
   "source": [
    "flatFile.ndim"
   ]
  },
  {
   "cell_type": "code",
   "execution_count": 19,
   "metadata": {
    "scrolled": true
   },
   "outputs": [
    {
     "data": {
      "image/png": "[encoded data removed]",
      "text/plain": [
       "<Figure size 640x480 with 2 Axes>"
      ]
     },
     "metadata": {},
     "output_type": "display_data"
    },
    {
     "data": {
      "image/png": "[encoded data removed]",
      "text/plain": [
       "<Figure size 640x480 with 2 Axes>"
      ]
     },
     "metadata": {},
     "output_type": "display_data"
    }
   ],
   "source": [
    "plt.title('Flatfield')\n",
    "plt.imshow(basic.flatfield)\n",
    "plt.colorbar()\n",
    "plt.show()\n",
    "plt.title('Darkfield')\n",
    "plt.imshow(basic.darkfield)\n",
    "plt.colorbar()\n",
    "plt.show()"
   ]
  },
  {
   "cell_type": "markdown",
   "metadata": {},
   "source": [
    "## Run Ashlar on the infile with the darkfield and flatfield corrections"
   ]
  },
  {
   "cell_type": "code",
   "execution_count": 16,
   "metadata": {},
   "outputs": [],
   "source": [
    "args = \"--flip-x --flip-y -m 30 --filter-sigma 1 --ffp '\" + export_path + \"flatfield.tif' --dfp '\" + export_path + \"darkfield.tif'\""
   ]
  },
  {
   "cell_type": "code",
   "execution_count": 17,
   "metadata": {},
   "outputs": [
    {
     "name": "stdout",
     "output_type": "stream",
     "text": [
      "usage: ashlar [-h] [-o PATH] [-c CHANNEL] [--flip-x] [--flip-y]\n",
      "              [--flip-mosaic-x] [--flip-mosaic-y]\n",
      "              [--output-channels CHANNEL [CHANNEL ...]] [-m SHIFT]\n",
      "              [--filter-sigma SIGMA] [--tile-size PIXELS]\n",
      "              [--ffp FILE [FILE ...]] [--dfp FILE [FILE ...]] [--plates] [-q]\n",
      "              [--version]\n",
      "              FILE [FILE ...]\n",
      "\n",
      "Stitch and align multi-tile cyclic microscope images\n",
      "\n",
      "positional arguments:\n",
      "  FILE                  Image file(s) to be processed, one per cycle\n",
      "\n",
      "optional arguments:\n",
      "  -h, --help            Show this help message and exit\n",
      "  -o PATH, --output PATH\n",
      "                        Output file. If PATH ends in .ome.tif a pyramidal OME-\n",
      "                        TIFF will be written. If PATH ends in just .tif and\n",
      "                        includes {cycle} and {channel} placeholders, a series\n",
      "                        of single-channel plain TIFF files will be written. If\n",
      "                        PATH starts with a relative or absolute path to\n",
      "                        another directory, that directory must already exist.\n",
      "                        (default: ashlar_output.ome.tif)\n",
      "  -c CHANNEL, --align-channel CHANNEL\n",
      "                        Reference channel number for image alignment.\n",
      "                        Numbering starts at 0. (default: 0)\n",
      "  --flip-x              Flip tile positions left-to-right\n",
      "  --flip-y              Flip tile positions top-to-bottom\n",
      "  --flip-mosaic-x       Flip output image left-to-right\n",
      "  --flip-mosaic-y       Flip output image top-to-bottom\n",
      "  --output-channels CHANNEL [CHANNEL ...]\n",
      "                        Output only specified channels for each cycle.\n",
      "                        Numbering starts at 0. (default: all channels)\n",
      "  -m SHIFT, --maximum-shift SHIFT\n",
      "                        Maximum allowed per-tile corrective shift in microns\n",
      "                        (default: 15)\n",
      "  --filter-sigma SIGMA  Filter images before alignment using a Gaussian kernel\n",
      "                        with s.d. of SIGMA pixels (default: no filtering)\n",
      "  --tile-size PIXELS    Pyramid tile size for OME-TIFF output (default: 1024)\n",
      "  --ffp FILE [FILE ...]\n",
      "                        Perform flat field illumination correction using the\n",
      "                        given profile image. Specify one common file for all\n",
      "                        cycles or one file for every cycle. Channel counts\n",
      "                        must match input files. (default: no flat field\n",
      "                        correction)\n",
      "  --dfp FILE [FILE ...]\n",
      "                        Perform dark field illumination correction using the\n",
      "                        given profile image. Specify one common file for all\n",
      "                        cycles or one file for every cycle. Channel counts\n",
      "                        must match input files. (default: no dark field\n",
      "                        correction)\n",
      "  --plates              Enable plate mode for HTS data\n",
      "  -q, --quiet           Suppress progress display\n",
      "  --version             Show program's version number and exit\n"
     ]
    }
   ],
   "source": [
    "!ashlar --help"
   ]
  },
  {
   "cell_type": "code",
   "execution_count": 3,
   "metadata": {
    "scrolled": true
   },
   "outputs": [
    {
     "ename": "NameError",
     "evalue": "name 'args' is not defined",
     "output_type": "error",
     "traceback": [
      "\u001b[0;31m---------------------------------------------------------------------------\u001b[0m",
      "\u001b[0;31mNameError\u001b[0m                                 Traceback (most recent call last)",
      "\u001b[0;32m<ipython-input-3-0b443de8feea>\u001b[0m in \u001b[0;36m<module>\u001b[0;34m\u001b[0m\n\u001b[0;32m----> 1\u001b[0;31m \u001b[0mcall_sequence\u001b[0m \u001b[0;34m=\u001b[0m \u001b[0;34m\"ashlar \"\u001b[0m \u001b[0;34m+\u001b[0m \u001b[0margs\u001b[0m \u001b[0;34m+\u001b[0m \u001b[0;34m\" -o '\"\u001b[0m\u001b[0;34m+\u001b[0m \u001b[0mexport_path\u001b[0m \u001b[0;34m+\u001b[0m \u001b[0moutfile\u001b[0m \u001b[0;34m+\u001b[0m \u001b[0;34m\"' '\"\u001b[0m \u001b[0;34m+\u001b[0m \u001b[0mbase_path\u001b[0m \u001b[0;34m+\u001b[0m \u001b[0minfile\u001b[0m \u001b[0;34m+\u001b[0m \u001b[0;34m\"'\"\u001b[0m\u001b[0;34m\u001b[0m\u001b[0;34m\u001b[0m\u001b[0m\n\u001b[0m\u001b[1;32m      2\u001b[0m \u001b[0mprint\u001b[0m\u001b[0;34m(\u001b[0m\u001b[0mcall_sequence\u001b[0m\u001b[0;34m)\u001b[0m\u001b[0;34m\u001b[0m\u001b[0;34m\u001b[0m\u001b[0m\n\u001b[1;32m      3\u001b[0m \u001b[0mget_ipython\u001b[0m\u001b[0;34m(\u001b[0m\u001b[0;34m)\u001b[0m\u001b[0;34m.\u001b[0m\u001b[0msystem\u001b[0m\u001b[0;34m(\u001b[0m\u001b[0;34m'$call_sequence'\u001b[0m\u001b[0;34m)\u001b[0m\u001b[0;34m\u001b[0m\u001b[0;34m\u001b[0m\u001b[0m\n",
      "\u001b[0;31mNameError\u001b[0m: name 'args' is not defined"
     ]
    }
   ],
   "source": [
    "call_sequence = \"ashlar \" + args + \" -o '\"+ export_path + outfile + \"' '\" + base_path + infile + \"'\"\n",
    "print(call_sequence)\n",
    "!$call_sequence"
   ]
  },
  {
   "cell_type": "code",
   "execution_count": 20,
   "metadata": {},
   "outputs": [
    {
     "data": {
      "text/plain": [
       "(6, 32425, 25191)"
      ]
     },
     "execution_count": 20,
     "metadata": {},
     "output_type": "execute_result"
    }
   ],
   "source": [
    "fullImage = skimage.io.imread(export_path + outfile)\n",
    "fullImage.shape"
   ]
  },
  {
   "cell_type": "code",
   "execution_count": 21,
   "metadata": {},
   "outputs": [],
   "source": [
    "fullImageDAPI = fullImage[4,:,:]\n",
    "\n",
    "# Remove fullImage[5,:,:] from fullImage\n",
    "fullImage = np.delete(fullImage, 4, 0)\n",
    "\n",
    "# sum the first dimension of fullImage\n",
    "fullImageMean = np.sum(fullImage, axis=0)"
   ]
  },
  {
   "cell_type": "code",
   "execution_count": 22,
   "metadata": {},
   "outputs": [],
   "source": [
    "fullImageDAPI = (fullImageDAPI / (fullImageDAPI.max()) * 255).astype(np.uint8)"
   ]
  },
  {
   "cell_type": "code",
   "execution_count": 23,
   "metadata": {},
   "outputs": [],
   "source": [
    "fullImageMean = (fullImageMean / (fullImageMean.max()) * 255).astype(np.uint8)"
   ]
  },
  {
   "cell_type": "code",
   "execution_count": 24,
   "metadata": {},
   "outputs": [
    {
     "data": {
      "text/plain": [
       "(32425, 25191, 3)"
      ]
     },
     "execution_count": 24,
     "metadata": {},
     "output_type": "execute_result"
    }
   ],
   "source": [
    "from PIL import Image\n",
    "rgbArray = np.zeros((fullImageMean.shape[0],fullImageMean.shape[1],3), 'uint8')\n",
    "rgbArray.shape"
   ]
  },
  {
   "cell_type": "code",
   "execution_count": 27,
   "metadata": {},
   "outputs": [],
   "source": [
    "#rgbArray[..., 0] = r\n",
    "rgbArray[..., 1] = fullImageMean\n",
    "rgbArray[..., 0] = fullImageDAPI\n",
    "# img = Image.fromarray(rgbArray)\n",
    "# img.save(export_path + outfile.replace(\"ome.tif\", \"RGB_flatRCA.tif\"))\n",
    "\n",
    "#Write a rgb tiff from rgbArray\n",
    "outfileFlat = outfile.replace(\"ome.tif\", \"RGB_flatRCA.tif\")\n",
    "\n",
    "tifffile.imwrite(export_path + outfileFlat, rgbArray)"
   ]
  },
  {
   "cell_type": "code",
   "execution_count": 5,
   "metadata": {},
   "outputs": [],
   "source": [
    "outfileFlat = outfile.replace(\"ome.tif\", \"RGB_flatRCA.tif\")"
   ]
  },
  {
   "cell_type": "markdown",
   "metadata": {},
   "source": [
    "### Generate overlapping tiles"
   ]
  },
  {
   "cell_type": "code",
   "execution_count": 4,
   "metadata": {},
   "outputs": [
    {
     "ename": "NameError",
     "evalue": "name 'tmp_path' is not defined",
     "output_type": "error",
     "traceback": [
      "\u001b[0;31m---------------------------------------------------------------------------\u001b[0m",
      "\u001b[0;31mNameError\u001b[0m                                 Traceback (most recent call last)",
      "\u001b[0;32m<ipython-input-4-ba36b7d589e3>\u001b[0m in \u001b[0;36m<module>\u001b[0;34m\u001b[0m\n\u001b[0;32m----> 1\u001b[0;31m \u001b[0mos\u001b[0m\u001b[0;34m.\u001b[0m\u001b[0mchdir\u001b[0m\u001b[0;34m(\u001b[0m\u001b[0mtmp_path\u001b[0m\u001b[0;34m)\u001b[0m\u001b[0;34m\u001b[0m\u001b[0;34m\u001b[0m\u001b[0m\n\u001b[0m\u001b[1;32m      2\u001b[0m \u001b[0mget_ipython\u001b[0m\u001b[0;34m(\u001b[0m\u001b[0;34m)\u001b[0m\u001b[0;34m.\u001b[0m\u001b[0msystem\u001b[0m\u001b[0;34m(\u001b[0m\u001b[0;34m'ls'\u001b[0m\u001b[0;34m)\u001b[0m\u001b[0;34m\u001b[0m\u001b[0;34m\u001b[0m\u001b[0m\n",
      "\u001b[0;31mNameError\u001b[0m: name 'tmp_path' is not defined"
     ]
    }
   ],
   "source": [
    "os.chdir(tmp_path)\n",
    "!ls"
   ]
  },
  {
   "cell_type": "code",
   "execution_count": 28,
   "metadata": {},
   "outputs": [],
   "source": [
    "import cv2\n",
    "img = cv2.imread(export_path + outfileFlat)\n",
    "img_h, img_w, _ = img.shape\n",
    "split_width = 512\n",
    "split_height = 512"
   ]
  },
  {
   "cell_type": "code",
   "execution_count": 72,
   "metadata": {},
   "outputs": [],
   "source": [
    "\n",
    "\n",
    "def start_points(size, split_size, overlap=50):\n",
    "    points = [0]\n",
    "    stride = int(split_size * (1-overlap))\n",
    "    counter = 1\n",
    "    while True:\n",
    "        pt = stride * counter\n",
    "        if pt + split_size >= size:\n",
    "            if split_size == size:\n",
    "                break\n",
    "            points.append(size - split_size)\n",
    "            break\n",
    "        else:\n",
    "            points.append(pt)\n",
    "        counter += 1\n",
    "    return points\n",
    "\n",
    "\n",
    "X_points = start_points(img_w, split_width, 0.5)\n",
    "Y_points = start_points(img_h, split_height, 0.5)\n",
    "\n",
    "count = 0\n",
    "name = 'splitted'\n",
    "frmt = 'jpeg'\n",
    "\n",
    "for i in Y_points:\n",
    "    for j in X_points:\n",
    "        split = img[i:i+split_height, j:j+split_width]\n",
    "        cv2.imwrite('{}_{}.{}'.format(name, count, frmt), split)\n",
    "        count += 1"
   ]
  },
  {
   "cell_type": "markdown",
   "metadata": {},
   "source": [
    "### Run Cellpose\n",
    "> Acrivate the Cellpose environment"
   ]
  },
  {
   "cell_type": "code",
   "execution_count": 1,
   "metadata": {},
   "outputs": [
    {
     "name": "stderr",
     "output_type": "stream",
     "text": [
      "UsageError: Line magic function `%cellpose` not found.\n"
     ]
    }
   ],
   "source": [
    "%cellpose"
   ]
  },
  {
   "cell_type": "code",
   "execution_count": 8,
   "metadata": {},
   "outputs": [
    {
     "name": "stdout",
     "output_type": "stream",
     "text": [
      ">>>> !NEW LOGGING SETUP! To see cellpose progress, set --verbose\n",
      "No --verbose => no progress or info printed\n",
      "\u001b[0m"
     ]
    }
   ],
   "source": [
    "# edit /home/lcadmin/miniconda3/envs/cellpose/lib/python3.9/site-packages/numpy/lib/format.py\n",
    "# line 711 to : pickle.dump(array, fp, protocol=4, **pickle_kwargs)\n",
    "# or use --no_npy\n",
    "\n",
    "!cellpose --use_gpu --image_path '/media/test.tif' --add_model /tmp/basic/models/CP_20230708_143640 --chan 1 --chan2 0 --diameter 31.9 --save_tif "
   ]
  },
  {
   "cell_type": "markdown",
   "metadata": {},
   "source": [
    "### Read masks and measure the mean intensity"
   ]
  },
  {
   "cell_type": "code",
   "execution_count": 29,
   "metadata": {},
   "outputs": [
    {
     "name": "stdout",
     "output_type": "stream",
     "text": [
      "Collecting pyometiff\n",
      "  Downloading pyometiff-0.0.13-py3-none-any.whl (36 kB)\n",
      "Collecting lxml (from pyometiff)\n",
      "  Downloading lxml-4.9.3-cp39-cp39-manylinux_2_28_x86_64.whl (8.0 MB)\n",
      "\u001b[2K     \u001b[90m━━━━━━━━━━━━━━━━━━━━━━━━━━━━━━━━━━━━━━━━\u001b[0m \u001b[32m8.0/8.0 MB\u001b[0m \u001b[31m62.7 MB/s\u001b[0m eta \u001b[36m0:00:00\u001b[0ma \u001b[36m0:00:01\u001b[0m\n",
      "\u001b[?25hRequirement already satisfied: tifffile>2020.10.1 in /home/lcadmin/miniconda3/envs/cellpose/lib/python3.9/site-packages (from pyometiff) (2023.7.4)\n",
      "Requirement already satisfied: numpy in /home/lcadmin/miniconda3/envs/cellpose/lib/python3.9/site-packages (from pyometiff) (1.24.3)\n",
      "Requirement already satisfied: imagecodecs in /home/lcadmin/miniconda3/envs/cellpose/lib/python3.9/site-packages (from pyometiff) (2023.7.4)\n",
      "Installing collected packages: lxml, pyometiff\n",
      "Successfully installed lxml-4.9.3 pyometiff-0.0.13\n",
      "Note: you may need to restart the kernel to use updated packages.\n"
     ]
    }
   ],
   "source": [
    "#%pip install scikit-image\n",
    "#%pip install pyometiff"
   ]
  },
  {
   "cell_type": "markdown",
   "metadata": {},
   "source": [
    "### Perform Top-Hat background subtraction"
   ]
  },
  {
   "cell_type": "code",
   "execution_count": 16,
   "metadata": {},
   "outputs": [],
   "source": [
    "import cv2\n",
    "from matplotlib import pyplot as plt\n",
    "import numpy as np\n",
    "import skimage\n",
    "import tifffile\n",
    "import cupy as cp"
   ]
  },
  {
   "cell_type": "code",
   "execution_count": 17,
   "metadata": {},
   "outputs": [
    {
     "data": {
      "text/plain": [
       "(6, 32425, 25191)"
      ]
     },
     "execution_count": 17,
     "metadata": {},
     "output_type": "execute_result"
    }
   ],
   "source": [
    "fullImage = cp.asarray(skimage.io.imread(export_path + outfile).astype(np.int16))\n",
    "#fullImage = skimage.io.imread(export_path + outfile).astype(np.uint16)\n",
    "fullImage.shape"
   ]
  },
  {
   "cell_type": "code",
   "execution_count": 18,
   "metadata": {},
   "outputs": [],
   "source": [
    "def subtract_background(image, radius=50):\n",
    "    # import libraries\n",
    "    from cucim.skimage.morphology import white_tophat, disk\n",
    "    # generate structuring element\n",
    "    str_el = disk(radius)\n",
    "\n",
    "    return white_tophat(image, str_el)"
   ]
  },
  {
   "cell_type": "code",
   "execution_count": 19,
   "metadata": {},
   "outputs": [
    {
     "name": "stdout",
     "output_type": "stream",
     "text": [
      "Processing channel: 0\n",
      "Processing channel: 1\n",
      "Processing channel: 2\n",
      "Processing channel: 3\n",
      "Processing channel: 4\n",
      "Processing channel: 5\n"
     ]
    }
   ],
   "source": [
    "#fullImageBGS = cp.zeros(fullImage.shape, dtype=cp.uint16)\n",
    "from cucim.skimage.filters import gaussian\n",
    "for channel in range(fullImage.shape[0]):\n",
    "    print(\"Processing channel: \" + str(channel))\n",
    "    fullImageSmooth = gaussian(fullImage[channel,:,:], sigma=10, preserve_range=True)\n",
    "    fullImageSmoothDetail = subtract_background(fullImageSmooth, radius=75)\n",
    "    fullImage[channel,:,:] = fullImage[channel,:,:] - (fullImageSmooth - fullImageSmoothDetail)\n",
    "    del fullImageSmooth\n",
    "    del fullImageSmoothDetail"
   ]
  },
  {
   "cell_type": "code",
   "execution_count": 20,
   "metadata": {},
   "outputs": [],
   "source": [
    "fullImage = cp.asnumpy(fullImage)\n",
    "\n",
    "mempool.free_all_blocks()\n",
    "pinned_mempool.free_all_blocks()"
   ]
  },
  {
   "cell_type": "code",
   "execution_count": 21,
   "metadata": {},
   "outputs": [],
   "source": [
    "fullImage[fullImage < 0] = 0"
   ]
  },
  {
   "cell_type": "markdown",
   "metadata": {},
   "source": [
    "### Subtract remaining tissue background"
   ]
  },
  {
   "cell_type": "code",
   "execution_count": 5,
   "metadata": {},
   "outputs": [],
   "source": [
    "#del fullImage\n",
    "fullImage = skimage.io.imread(export_path + sampleName + '_BGS.ome.tif').astype(np.uint16)"
   ]
  },
  {
   "cell_type": "code",
   "execution_count": 6,
   "metadata": {},
   "outputs": [
    {
     "data": {
      "text/plain": [
       "(6, 32425, 25191)"
      ]
     },
     "execution_count": 6,
     "metadata": {},
     "output_type": "execute_result"
    }
   ],
   "source": [
    "#fullImage = fullImageIN.copy()\n",
    "fullImage.shape"
   ]
  },
  {
   "cell_type": "code",
   "execution_count": 118,
   "metadata": {},
   "outputs": [
    {
     "data": {
      "text/plain": [
       "array([[0, 0, 0, ..., 0, 0, 0],\n",
       "       [0, 0, 0, ..., 0, 0, 0],\n",
       "       [0, 0, 0, ..., 0, 0, 0],\n",
       "       ...,\n",
       "       [0, 0, 0, ..., 0, 0, 0],\n",
       "       [0, 0, 0, ..., 0, 0, 0],\n",
       "       [0, 0, 0, ..., 0, 0, 0]], dtype=uint16)"
      ]
     },
     "execution_count": 118,
     "metadata": {},
     "output_type": "execute_result"
    }
   ],
   "source": [
    "fullImage[i,:,:]"
   ]
  },
  {
   "cell_type": "code",
   "execution_count": 119,
   "metadata": {},
   "outputs": [
    {
     "data": {
      "text/plain": [
       "1821"
      ]
     },
     "execution_count": 119,
     "metadata": {},
     "output_type": "execute_result"
    }
   ],
   "source": [
    "maxLevel = int(np.percentile(fullImage[i,:,:], 99.999))\n",
    "maxLevel"
   ]
  },
  {
   "cell_type": "code",
   "execution_count": 7,
   "metadata": {},
   "outputs": [
    {
     "name": "stdout",
     "output_type": "stream",
     "text": [
      "65535.0\n",
      "0.0\n",
      "65535.0\n",
      "0.0\n",
      "65535.0\n",
      "0.0\n",
      "65535.0\n",
      "0.0\n",
      "65535.0\n",
      "0.0\n",
      "65535.0\n",
      "0.0\n"
     ]
    }
   ],
   "source": [
    "bgLevels = [95,25,25,25,15,25] #Background levels for each channel need to be set manually from cortical background measurements\n",
    "\n",
    "for i in range(6):\n",
    "    intMTX = fullImage[i,:,:].astype(np.int16) - bgLevels[i]\n",
    "    maxLevel = int(np.percentile(intMTX, 99.999))\n",
    "    intMTX[intMTX > maxLevel] = maxLevel\n",
    "    intMTX = (intMTX / maxLevel * 65535)\n",
    "    intMTX[intMTX < 0] = 0\n",
    "    print(np.max(intMTX))\n",
    "    print(np.min(intMTX))\n",
    "    fullImage[i,:,:] = intMTX.astype(np.uint16)\n"
   ]
  },
  {
   "cell_type": "code",
   "execution_count": 8,
   "metadata": {},
   "outputs": [
    {
     "data": {
      "text/plain": [
       "array([[0, 0, 0, ..., 0, 0, 0],\n",
       "       [0, 0, 0, ..., 0, 0, 0],\n",
       "       [0, 0, 0, ..., 0, 0, 0],\n",
       "       ...,\n",
       "       [0, 0, 0, ..., 0, 0, 0],\n",
       "       [0, 0, 0, ..., 0, 0, 0],\n",
       "       [0, 0, 0, ..., 0, 0, 0]], dtype=uint16)"
      ]
     },
     "execution_count": 8,
     "metadata": {},
     "output_type": "execute_result"
    }
   ],
   "source": [
    "i=0\n",
    "fullImage[i,:,:]"
   ]
  },
  {
   "cell_type": "code",
   "execution_count": 9,
   "metadata": {},
   "outputs": [],
   "source": [
    "metadata_dict = {\n",
    "    \"PhysicalSizeX\" : \"0.88\",\n",
    "    \"PhysicalSizeXUnit\" : \"µm\",\n",
    "    \"PhysicalSizeY\" : \"0.88\",\n",
    "    \"PhysicalSizeYUnit\" : \"µm\",\n",
    "    \"PhysicalSizeZ\" : \"3.3\",\n",
    "    \"PhysicalSizeZUnit\" : \"µm\",\n",
    "    \"Channels\" : {\n",
    "        \"488\" : {\n",
    "            \"Name\" : \"488nm\",\n",
    "            \"SamplesPerPixel\": 1,\n",
    "            \"ExcitationWavelength\": 488.,\n",
    "            \"ExcitationWavelengthUnit\": \"nm\"\n",
    "        },\n",
    "        \"554\" : {\n",
    "            \"Name\" : \"Cy3\",\n",
    "            \"SamplesPerPixel\": 1,\n",
    "            \"ExcitationWavelength\": 554.,\n",
    "            \"ExcitationWavelengthUnit\": \"nm\"\n",
    "        },\n",
    "        \"638\" : {\n",
    "            \"Name\" : \"Cy5\",\n",
    "            \"SamplesPerPixel\": 1,\n",
    "            \"ExcitationWavelength\": 638.,\n",
    "            \"ExcitationWavelengthUnit\": \"nm\"\n",
    "        },\n",
    "        \"589\" : {\n",
    "            \"Name\" : \"TxRed\",\n",
    "            \"SamplesPerPixel\": 1,\n",
    "            \"ExcitationWavelength\": 589.,\n",
    "            \"ExcitationWavelengthUnit\": \"nm\"\n",
    "        },\n",
    "        \"405\" : {\n",
    "            \"Name\" : \"DAPI\",\n",
    "            \"SamplesPerPixel\": 1,\n",
    "            \"ExcitationWavelength\": 405.,\n",
    "            \"ExcitationWavelengthUnit\": \"nm\"\n",
    "        },\n",
    "        \"750\" : {\n",
    "            \"Name\" : \"Ax750\",\n",
    "            \"SamplesPerPixel\": 1,\n",
    "            \"ExcitationWavelength\": 756.,\n",
    "            \"ExcitationWavelengthUnit\": \"nm\"\n",
    "        },\n",
    "    }\n",
    "}"
   ]
  },
  {
   "cell_type": "code",
   "execution_count": 10,
   "metadata": {},
   "outputs": [
    {
     "name": "stderr",
     "output_type": "stream",
     "text": [
      "WARNING:root:array size is larger than 4GB, using BigTIFF\n"
     ]
    }
   ],
   "source": [
    "import pathlib\n",
    "from pyometiff import OMETIFFWriter\n",
    "\n",
    "dimension_order = \"CYX\"\n",
    "\n",
    "writer = OMETIFFWriter(\n",
    "    fpath=(export_path + sampleName + '_BGS_norm.ome.tif'),\n",
    "    dimension_order=dimension_order,\n",
    "    array=fullImage,\n",
    "    metadata=metadata_dict,\n",
    "    explicit_tiffdata=False)\n",
    "\n",
    "writer.write()"
   ]
  },
  {
   "cell_type": "markdown",
   "metadata": {},
   "source": [
    "### Dilate the masks to cover all transcripts"
   ]
  },
  {
   "cell_type": "code",
   "execution_count": 11,
   "metadata": {},
   "outputs": [
    {
     "data": {
      "text/plain": [
       "(32425, 25191)"
      ]
     },
     "execution_count": 11,
     "metadata": {},
     "output_type": "execute_result"
    }
   ],
   "source": [
    "from skimage.segmentation import expand_labels, watershed\n",
    "\n",
    "outfileMasks = sampleName + '.RGB_flatRCA_cp_masks.tif'\n",
    "masks = skimage.io.imread(export_path+outfileMasks)\n",
    "masks.shape"
   ]
  },
  {
   "cell_type": "code",
   "execution_count": 12,
   "metadata": {},
   "outputs": [],
   "source": [
    "masksExp = expand_labels(masks, distance=25)"
   ]
  },
  {
   "cell_type": "markdown",
   "metadata": {},
   "source": [
    "### Measure average intensity per cell"
   ]
  },
  {
   "cell_type": "code",
   "execution_count": 13,
   "metadata": {},
   "outputs": [],
   "source": [
    "fullImageNo0 = fullImage[:,masksExp > 0]\n",
    "masksNo0 = masksExp[masksExp > 0]"
   ]
  },
  {
   "cell_type": "code",
   "execution_count": 14,
   "metadata": {},
   "outputs": [],
   "source": [
    "#Use this instead to only count the nucleus adjescent RCAs\n",
    "fullImageNo0 = fullImage[:,masks > 0]\n",
    "masksNo0 = masks[masks > 0]"
   ]
  },
  {
   "cell_type": "code",
   "execution_count": 15,
   "metadata": {},
   "outputs": [],
   "source": [
    "def extractCellMean(i):\n",
    "    return np.mean(fullImageNo0[:,masksNo0 == i], axis=1)"
   ]
  },
  {
   "cell_type": "code",
   "execution_count": 16,
   "metadata": {},
   "outputs": [],
   "source": [
    "# Parallelizing using Pool.apply()\n",
    "\n",
    "import multiprocessing as mp\n",
    "\n",
    "# Step 1: Init multiprocessing.Pool()\n",
    "pool = mp.Pool(mp.cpu_count())\n",
    "\n",
    "# Step 2: `pool.apply` the `extractCellMean()`\n",
    "results = pool.map(extractCellMean, [cell for cell in range(1, masksNo0.max()+1)])\n",
    "\n",
    "# Step 3: Don't forget to close\n",
    "pool.close()    \n"
   ]
  },
  {
   "cell_type": "code",
   "execution_count": 17,
   "metadata": {},
   "outputs": [
    {
     "data": {
      "text/html": [
       "<div>\n",
       "<style scoped>\n",
       "    .dataframe tbody tr th:only-of-type {\n",
       "        vertical-align: middle;\n",
       "    }\n",
       "\n",
       "    .dataframe tbody tr th {\n",
       "        vertical-align: top;\n",
       "    }\n",
       "\n",
       "    .dataframe thead th {\n",
       "        text-align: right;\n",
       "    }\n",
       "</style>\n",
       "<table border=\"1\" class=\"dataframe\">\n",
       "  <thead>\n",
       "    <tr style=\"text-align: right;\">\n",
       "      <th></th>\n",
       "      <th>Ax488</th>\n",
       "      <th>Cy3</th>\n",
       "      <th>Cy5</th>\n",
       "      <th>TxRed</th>\n",
       "      <th>DAPI</th>\n",
       "      <th>Ax750</th>\n",
       "    </tr>\n",
       "  </thead>\n",
       "  <tbody>\n",
       "    <tr>\n",
       "      <th>1</th>\n",
       "      <td>350.302932</td>\n",
       "      <td>2166.058632</td>\n",
       "      <td>209.338762</td>\n",
       "      <td>41.478827</td>\n",
       "      <td>2705.856678</td>\n",
       "      <td>22.478827</td>\n",
       "    </tr>\n",
       "    <tr>\n",
       "      <th>2</th>\n",
       "      <td>0.144772</td>\n",
       "      <td>0.000000</td>\n",
       "      <td>0.000000</td>\n",
       "      <td>0.000000</td>\n",
       "      <td>5314.690349</td>\n",
       "      <td>47.868633</td>\n",
       "    </tr>\n",
       "    <tr>\n",
       "      <th>3</th>\n",
       "      <td>178.486726</td>\n",
       "      <td>1197.109145</td>\n",
       "      <td>52.306785</td>\n",
       "      <td>4747.436578</td>\n",
       "      <td>4917.818584</td>\n",
       "      <td>34.171091</td>\n",
       "    </tr>\n",
       "    <tr>\n",
       "      <th>4</th>\n",
       "      <td>517.488673</td>\n",
       "      <td>1101.368123</td>\n",
       "      <td>505.706311</td>\n",
       "      <td>3064.786408</td>\n",
       "      <td>6706.141586</td>\n",
       "      <td>50.504045</td>\n",
       "    </tr>\n",
       "    <tr>\n",
       "      <th>5</th>\n",
       "      <td>847.663347</td>\n",
       "      <td>2271.864542</td>\n",
       "      <td>227.135458</td>\n",
       "      <td>334.731076</td>\n",
       "      <td>8768.924303</td>\n",
       "      <td>121.978088</td>\n",
       "    </tr>\n",
       "    <tr>\n",
       "      <th>...</th>\n",
       "      <td>...</td>\n",
       "      <td>...</td>\n",
       "      <td>...</td>\n",
       "      <td>...</td>\n",
       "      <td>...</td>\n",
       "      <td>...</td>\n",
       "    </tr>\n",
       "    <tr>\n",
       "      <th>49462</th>\n",
       "      <td>79.596100</td>\n",
       "      <td>0.000000</td>\n",
       "      <td>0.000000</td>\n",
       "      <td>0.000000</td>\n",
       "      <td>5733.487465</td>\n",
       "      <td>29.520891</td>\n",
       "    </tr>\n",
       "    <tr>\n",
       "      <th>49463</th>\n",
       "      <td>10.466997</td>\n",
       "      <td>0.000000</td>\n",
       "      <td>0.000000</td>\n",
       "      <td>0.000000</td>\n",
       "      <td>6990.678218</td>\n",
       "      <td>23.326733</td>\n",
       "    </tr>\n",
       "    <tr>\n",
       "      <th>49464</th>\n",
       "      <td>0.000000</td>\n",
       "      <td>0.000000</td>\n",
       "      <td>0.000000</td>\n",
       "      <td>0.000000</td>\n",
       "      <td>10383.012500</td>\n",
       "      <td>6.362500</td>\n",
       "    </tr>\n",
       "    <tr>\n",
       "      <th>49465</th>\n",
       "      <td>122.167382</td>\n",
       "      <td>0.000000</td>\n",
       "      <td>0.000000</td>\n",
       "      <td>0.000000</td>\n",
       "      <td>5510.495708</td>\n",
       "      <td>0.463519</td>\n",
       "    </tr>\n",
       "    <tr>\n",
       "      <th>49466</th>\n",
       "      <td>52.737705</td>\n",
       "      <td>0.000000</td>\n",
       "      <td>0.000000</td>\n",
       "      <td>0.000000</td>\n",
       "      <td>4931.306011</td>\n",
       "      <td>0.693989</td>\n",
       "    </tr>\n",
       "  </tbody>\n",
       "</table>\n",
       "<p>49466 rows × 6 columns</p>\n",
       "</div>"
      ],
      "text/plain": [
       "            Ax488          Cy3         Cy5        TxRed          DAPI  \\\n",
       "1      350.302932  2166.058632  209.338762    41.478827   2705.856678   \n",
       "2        0.144772     0.000000    0.000000     0.000000   5314.690349   \n",
       "3      178.486726  1197.109145   52.306785  4747.436578   4917.818584   \n",
       "4      517.488673  1101.368123  505.706311  3064.786408   6706.141586   \n",
       "5      847.663347  2271.864542  227.135458   334.731076   8768.924303   \n",
       "...           ...          ...         ...          ...           ...   \n",
       "49462   79.596100     0.000000    0.000000     0.000000   5733.487465   \n",
       "49463   10.466997     0.000000    0.000000     0.000000   6990.678218   \n",
       "49464    0.000000     0.000000    0.000000     0.000000  10383.012500   \n",
       "49465  122.167382     0.000000    0.000000     0.000000   5510.495708   \n",
       "49466   52.737705     0.000000    0.000000     0.000000   4931.306011   \n",
       "\n",
       "            Ax750  \n",
       "1       22.478827  \n",
       "2       47.868633  \n",
       "3       34.171091  \n",
       "4       50.504045  \n",
       "5      121.978088  \n",
       "...           ...  \n",
       "49462   29.520891  \n",
       "49463   23.326733  \n",
       "49464    6.362500  \n",
       "49465    0.463519  \n",
       "49466    0.693989  \n",
       "\n",
       "[49466 rows x 6 columns]"
      ]
     },
     "execution_count": 17,
     "metadata": {},
     "output_type": "execute_result"
    }
   ],
   "source": [
    "cellTable = pd.DataFrame(np.array(results), columns=['Dapi', 'FITC', 'PE'], index=[cell for cell in range(1, masksNo0.max()+1)])\n",
    "cellTable"
   ]
  },
  {
   "cell_type": "code",
   "execution_count": 18,
   "metadata": {},
   "outputs": [],
   "source": [
    "cellTableNorm = cellTable.copy()\n",
    "cellTableNorm['Dapi'] = (cellTableNorm['Dapi']/cellTableNorm['Dapi'].max()*65535).astype(np.uint16)\n",
    "cellTableNorm['FITC'] = (cellTableNorm['FITC']/cellTableNorm['FITC'].max()*65535).astype(np.uint16)\n",
    "cellTableNorm['PE'] = (cellTableNorm['PE']/cellTableNorm['PE'].max()*65535).astype(np.uint16)\n",
    "#cellTableNorm['TxRed'] = (cellTableNorm['TxRed']/cellTableNorm['TxRed'].max()*65535).astype(np.uint16)\n",
    "#cellTableNorm['DAPI'] = (cellTableNorm['DAPI']/cellTableNorm['DAPI'].max()*65535).astype(np.uint16)   \n",
    "#cellTableNorm['Ax750'] = (cellTableNorm['Ax750']/cellTableNorm['Ax750'].max()*65535).astype(np.uint16)\n"
   ]
  },
  {
   "cell_type": "code",
   "execution_count": 19,
   "metadata": {},
   "outputs": [
    {
     "data": {
      "text/html": [
       "<div>\n",
       "<style scoped>\n",
       "    .dataframe tbody tr th:only-of-type {\n",
       "        vertical-align: middle;\n",
       "    }\n",
       "\n",
       "    .dataframe tbody tr th {\n",
       "        vertical-align: top;\n",
       "    }\n",
       "\n",
       "    .dataframe thead th {\n",
       "        text-align: right;\n",
       "    }\n",
       "</style>\n",
       "<table border=\"1\" class=\"dataframe\">\n",
       "  <thead>\n",
       "    <tr style=\"text-align: right;\">\n",
       "      <th></th>\n",
       "      <th>Ax488</th>\n",
       "      <th>Cy3</th>\n",
       "      <th>Cy5</th>\n",
       "      <th>TxRed</th>\n",
       "      <th>DAPI</th>\n",
       "      <th>Ax750</th>\n",
       "    </tr>\n",
       "  </thead>\n",
       "  <tbody>\n",
       "    <tr>\n",
       "      <th>1</th>\n",
       "      <td>350</td>\n",
       "      <td>7623</td>\n",
       "      <td>213</td>\n",
       "      <td>97</td>\n",
       "      <td>3775</td>\n",
       "      <td>26</td>\n",
       "    </tr>\n",
       "    <tr>\n",
       "      <th>2</th>\n",
       "      <td>0</td>\n",
       "      <td>0</td>\n",
       "      <td>0</td>\n",
       "      <td>0</td>\n",
       "      <td>7415</td>\n",
       "      <td>56</td>\n",
       "    </tr>\n",
       "    <tr>\n",
       "      <th>3</th>\n",
       "      <td>178</td>\n",
       "      <td>4213</td>\n",
       "      <td>53</td>\n",
       "      <td>11154</td>\n",
       "      <td>6861</td>\n",
       "      <td>40</td>\n",
       "    </tr>\n",
       "    <tr>\n",
       "      <th>4</th>\n",
       "      <td>517</td>\n",
       "      <td>3876</td>\n",
       "      <td>515</td>\n",
       "      <td>7201</td>\n",
       "      <td>9356</td>\n",
       "      <td>59</td>\n",
       "    </tr>\n",
       "    <tr>\n",
       "      <th>5</th>\n",
       "      <td>848</td>\n",
       "      <td>7996</td>\n",
       "      <td>231</td>\n",
       "      <td>786</td>\n",
       "      <td>12234</td>\n",
       "      <td>144</td>\n",
       "    </tr>\n",
       "    <tr>\n",
       "      <th>...</th>\n",
       "      <td>...</td>\n",
       "      <td>...</td>\n",
       "      <td>...</td>\n",
       "      <td>...</td>\n",
       "      <td>...</td>\n",
       "      <td>...</td>\n",
       "    </tr>\n",
       "    <tr>\n",
       "      <th>49462</th>\n",
       "      <td>79</td>\n",
       "      <td>0</td>\n",
       "      <td>0</td>\n",
       "      <td>0</td>\n",
       "      <td>7999</td>\n",
       "      <td>35</td>\n",
       "    </tr>\n",
       "    <tr>\n",
       "      <th>49463</th>\n",
       "      <td>10</td>\n",
       "      <td>0</td>\n",
       "      <td>0</td>\n",
       "      <td>0</td>\n",
       "      <td>9753</td>\n",
       "      <td>27</td>\n",
       "    </tr>\n",
       "    <tr>\n",
       "      <th>49464</th>\n",
       "      <td>0</td>\n",
       "      <td>0</td>\n",
       "      <td>0</td>\n",
       "      <td>0</td>\n",
       "      <td>14486</td>\n",
       "      <td>7</td>\n",
       "    </tr>\n",
       "    <tr>\n",
       "      <th>49465</th>\n",
       "      <td>122</td>\n",
       "      <td>0</td>\n",
       "      <td>0</td>\n",
       "      <td>0</td>\n",
       "      <td>7688</td>\n",
       "      <td>0</td>\n",
       "    </tr>\n",
       "    <tr>\n",
       "      <th>49466</th>\n",
       "      <td>52</td>\n",
       "      <td>0</td>\n",
       "      <td>0</td>\n",
       "      <td>0</td>\n",
       "      <td>6880</td>\n",
       "      <td>0</td>\n",
       "    </tr>\n",
       "  </tbody>\n",
       "</table>\n",
       "<p>49466 rows × 6 columns</p>\n",
       "</div>"
      ],
      "text/plain": [
       "       Ax488   Cy3  Cy5  TxRed   DAPI  Ax750\n",
       "1        350  7623  213     97   3775     26\n",
       "2          0     0    0      0   7415     56\n",
       "3        178  4213   53  11154   6861     40\n",
       "4        517  3876  515   7201   9356     59\n",
       "5        848  7996  231    786  12234    144\n",
       "...      ...   ...  ...    ...    ...    ...\n",
       "49462     79     0    0      0   7999     35\n",
       "49463     10     0    0      0   9753     27\n",
       "49464      0     0    0      0  14486      7\n",
       "49465    122     0    0      0   7688      0\n",
       "49466     52     0    0      0   6880      0\n",
       "\n",
       "[49466 rows x 6 columns]"
      ]
     },
     "execution_count": 19,
     "metadata": {},
     "output_type": "execute_result"
    }
   ],
   "source": [
    "#Write cellTableNorm to pickle file\n",
    "cellTableNorm.to_pickle(export_path + sampleName + '_cellTableNormNoExp.pkl')\n",
    "cellTableNorm"
   ]
  },
  {
   "cell_type": "code",
   "execution_count": 20,
   "metadata": {},
   "outputs": [],
   "source": [
    "import anndata as ad"
   ]
  },
  {
   "cell_type": "code",
   "execution_count": 21,
   "metadata": {},
   "outputs": [
    {
     "name": "stderr",
     "output_type": "stream",
     "text": [
      "/home/lcadmin/miniconda3/envs/cellpose/lib/python3.9/site-packages/anndata/_core/anndata.py:117: ImplicitModificationWarning: Transforming to str index.\n",
      "  warnings.warn(\"Transforming to str index.\", ImplicitModificationWarning)\n"
     ]
    }
   ],
   "source": [
    "#Generate anndata from cellTableNorm\n",
    "adata = ad.AnnData(cellTableNorm)"
   ]
  },
  {
   "cell_type": "code",
   "execution_count": 22,
   "metadata": {},
   "outputs": [
    {
     "data": {
      "text/html": [
       "<div>\n",
       "<style scoped>\n",
       "    .dataframe tbody tr th:only-of-type {\n",
       "        vertical-align: middle;\n",
       "    }\n",
       "\n",
       "    .dataframe tbody tr th {\n",
       "        vertical-align: top;\n",
       "    }\n",
       "\n",
       "    .dataframe thead th {\n",
       "        text-align: right;\n",
       "    }\n",
       "</style>\n",
       "<table border=\"1\" class=\"dataframe\">\n",
       "  <thead>\n",
       "    <tr style=\"text-align: right;\">\n",
       "      <th></th>\n",
       "    </tr>\n",
       "  </thead>\n",
       "  <tbody>\n",
       "    <tr>\n",
       "      <th>1</th>\n",
       "    </tr>\n",
       "    <tr>\n",
       "      <th>2</th>\n",
       "    </tr>\n",
       "    <tr>\n",
       "      <th>3</th>\n",
       "    </tr>\n",
       "    <tr>\n",
       "      <th>4</th>\n",
       "    </tr>\n",
       "    <tr>\n",
       "      <th>5</th>\n",
       "    </tr>\n",
       "    <tr>\n",
       "      <th>...</th>\n",
       "    </tr>\n",
       "    <tr>\n",
       "      <th>49462</th>\n",
       "    </tr>\n",
       "    <tr>\n",
       "      <th>49463</th>\n",
       "    </tr>\n",
       "    <tr>\n",
       "      <th>49464</th>\n",
       "    </tr>\n",
       "    <tr>\n",
       "      <th>49465</th>\n",
       "    </tr>\n",
       "    <tr>\n",
       "      <th>49466</th>\n",
       "    </tr>\n",
       "  </tbody>\n",
       "</table>\n",
       "<p>49466 rows × 0 columns</p>\n",
       "</div>"
      ],
      "text/plain": [
       "Empty DataFrame\n",
       "Columns: []\n",
       "Index: [1, 2, 3, 4, 5, 6, 7, 8, 9, 10, 11, 12, 13, 14, 15, 16, 17, 18, 19, 20, 21, 22, 23, 24, 25, 26, 27, 28, 29, 30, 31, 32, 33, 34, 35, 36, 37, 38, 39, 40, 41, 42, 43, 44, 45, 46, 47, 48, 49, 50, 51, 52, 53, 54, 55, 56, 57, 58, 59, 60, 61, 62, 63, 64, 65, 66, 67, 68, 69, 70, 71, 72, 73, 74, 75, 76, 77, 78, 79, 80, 81, 82, 83, 84, 85, 86, 87, 88, 89, 90, 91, 92, 93, 94, 95, 96, 97, 98, 99, 100, ...]\n",
       "\n",
       "[49466 rows x 0 columns]"
      ]
     },
     "execution_count": 22,
     "metadata": {},
     "output_type": "execute_result"
    }
   ],
   "source": [
    "adata.obs"
   ]
  },
  {
   "cell_type": "code",
   "execution_count": 23,
   "metadata": {},
   "outputs": [],
   "source": [
    "adata.write(filename=export_path + sampleName + '_noExp_anndata.gz', compression='gzip')"
   ]
  },
  {
   "cell_type": "markdown",
   "metadata": {},
   "source": [
    "### Output cell intensity colored cells"
   ]
  },
  {
   "cell_type": "code",
   "execution_count": 24,
   "metadata": {},
   "outputs": [],
   "source": [
    "#adata = ad.read_h5ad(export_path + sampleName + '_anndata.gz')"
   ]
  },
  {
   "cell_type": "code",
   "execution_count": 25,
   "metadata": {},
   "outputs": [],
   "source": [
    "#%pip install cupy-cuda11x\n",
    "import numpy as np\n",
    "import cupy as cp"
   ]
  },
  {
   "cell_type": "code",
   "execution_count": 26,
   "metadata": {},
   "outputs": [],
   "source": [
    "masksExp = expand_labels(masks, distance=80) #Expand cells for easier visualization comment out for retaining the analysis masks\n",
    "masksExp = cp.asarray(masksExp)\n",
    "masks = cp.asarray(masks)"
   ]
  },
  {
   "cell_type": "code",
   "execution_count": 27,
   "metadata": {},
   "outputs": [],
   "source": [
    "# cell = 3\n",
    "# found = np.where(masks == cell)\n",
    "# fullImageNorm[:,found[0],found[1]] = cellTableNorm.loc[cell].values[:,None]"
   ]
  },
  {
   "cell_type": "code",
   "execution_count": 28,
   "metadata": {},
   "outputs": [],
   "source": [
    "RCAchannels = list(range(fullImage.shape[0]))\n",
    "RCAchannels.remove(DAPIchannel)\n",
    "#RCAchannels = cp.asarray(RCAchannels)\n"
   ]
  },
  {
   "cell_type": "code",
   "execution_count": 29,
   "metadata": {},
   "outputs": [],
   "source": [
    "#Create a numpy array with the same dimensions as the fullImage\n",
    "fullImageNorm = cp.zeros(fullImage.shape, dtype=np.uint16)\n"
   ]
  },
  {
   "cell_type": "code",
   "execution_count": 30,
   "metadata": {},
   "outputs": [],
   "source": [
    "for cell in range(1, int(masks.max())+1):\n",
    "    # Creates a darker outline of the cell\n",
    "    found = cp.where(masksExp == cell)\n",
    "    fullImageNorm[:,found[0],found[1]] = (cellTableNorm.loc[cell].values[:,None]*0.5).astype(np.uint16)\n",
    "    fullImageNorm[DAPIchannel,found[0],found[1]] = 0 \n",
    "    found = cp.where(masks == cell)\n",
    "    fullImageNorm[:,found[0],found[1]] = cellTableNorm.loc[cell].values[:,None]\n"
   ]
  },
  {
   "cell_type": "code",
   "execution_count": 31,
   "metadata": {},
   "outputs": [
    {
     "data": {
      "text/plain": [
       "(6, 32425, 25191)"
      ]
     },
     "execution_count": 31,
     "metadata": {},
     "output_type": "execute_result"
    }
   ],
   "source": [
    "fullImageNorm.shape"
   ]
  },
  {
   "cell_type": "code",
   "execution_count": 32,
   "metadata": {},
   "outputs": [],
   "source": [
    "fullImageNorm = cp.asnumpy(fullImageNorm)\n",
    "masksExp = cp.asnumpy(masksExp)\n",
    "masks = cp.asnumpy(masks)\n",
    "mempool = cp.get_default_memory_pool()\n",
    "mempool.free_all_blocks()"
   ]
  },
  {
   "cell_type": "code",
   "execution_count": 33,
   "metadata": {},
   "outputs": [],
   "source": [
    "metadata_dict = {\n",
    "    \"PhysicalSizeX\" : \"0.88\",\n",
    "    \"PhysicalSizeXUnit\" : \"µm\",\n",
    "    \"PhysicalSizeY\" : \"0.88\",\n",
    "   \n",
    "        \"405\" : {\n",
    "            \"Name\" : \"DAPI\",\n",
    "            \"SamplesPerPixel\": 1,\n",
    "            \"ExcitationWavelength\": 405.,\n",
    "            \"ExcitationWavelengthUnit\": \"nm\"\n",
    "        },\n",
    "        \"756\" : {\n",
    "            \"Name\" : \"Cy7\",\n",
    "            \"SamplesPerPixel\": 1,\n",
    "            \"ExcitationWavelength\": 756.,\n",
    "            \"ExcitationWavelengthUnit\": \"nm\"\n",
    "        },\n",
    "    }\n",
    "\n"
   ]
  },
  {
   "cell_type": "code",
   "execution_count": 34,
   "metadata": {},
   "outputs": [
    {
     "name": "stderr",
     "output_type": "stream",
     "text": [
      "WARNING:root:array size is larger than 4GB, using BigTIFF\n"
     ]
    }
   ],
   "source": [
    "import pathlib\n",
    "from pyometiff import OMETIFFWriter\n",
    "\n",
    "dimension_order = \"CYX\"\n",
    "\n",
    "writer = OMETIFFWriter(\n",
    "    fpath=(export_path + 'testOutput.ome.tif'),\n",
    "    dimension_order=dimension_order,\n",
    "    array=fullImageNorm,\n",
    "    metadata=metadata_dict,\n",
    "    explicit_tiffdata=False)\n",
    "\n",
    "writer.write()"
   ]
  },
  {
   "cell_type": "code",
   "execution_count": null,
   "metadata": {},
   "outputs": [],
   "source": [
    "mempool = cp.get_default_memory_pool()\n",
    "mempool.free_all_blocks()"
   ]
  },
  {
   "cell_type": "code",
   "execution_count": null,
   "metadata": {},
   "outputs": [],
   "source": []
  }
 ],
 "metadata": {
  "kernelspec": {
   "display_name": "Python 3",
   "language": "python",
   "name": "python3"
  },
  "language_info": {
   "codemirror_mode": {
    "name": "ipython",
    "version": 3
   },
   "file_extension": ".py",
   "mimetype": "text/x-python",
   "name": "python",
   "nbconvert_exporter": "python",
   "pygments_lexer": "ipython3",
   "version": "3.8.3"
  }
 },
 "nbformat": 4,
 "nbformat_minor": 4
}
