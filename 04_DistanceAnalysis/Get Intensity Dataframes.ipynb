{
 "cells": [
  {
   "cell_type": "code",
   "execution_count": 3,
   "metadata": {},
   "outputs": [],
   "source": [
    "import numpy as np\n",
    "import matplotlib.pyplot as plt\n",
    "from skimage import io, morphology, measure\n",
    "import os\n",
    "import pandas as pd\n",
    "from skimage.measure import label, regionprops, regionprops_table"
   ]
  },
  {
   "cell_type": "code",
   "execution_count": 8,
   "metadata": {},
   "outputs": [],
   "source": [
    "# Get file path\n",
    "cwd = os.path.dirname(os.getcwd())\n",
    "roi = \"R1C1ROI2\" # CHANGE THIS if necessary\n"
   ]
  },
  {
   "cell_type": "code",
   "execution_count": 9,
   "metadata": {},
   "outputs": [],
   "source": [
    "# Load mask as image\n",
    "maskpath = os.path.join(cwd, \"00_Data/NucleiCytoMasks\")\n",
    "masklist = os.listdir(maskpath)\n",
    "for m in masklist:\n",
    "    if m.startswith(roi):\n",
    "        maskpath = os.path.join(maskpath, m)\n",
    "\n",
    "mask = io.imread(maskpath)"
   ]
  },
  {
   "cell_type": "code",
   "execution_count": 10,
   "metadata": {},
   "outputs": [
    {
     "name": "stdout",
     "output_type": "stream",
     "text": [
      "Images of the markers dict_keys(['actin', 'cd3', 'cd4', 'podoplanin', 'fibulin2', 'cytokeratin', 'cd45', 'lyve1', 'cd45ro', 'collageni']) loaded.\n"
     ]
    }
   ],
   "source": [
    "#dont=run # because dfs have already been saved\n",
    "\n",
    "# Load images into dictionary\n",
    "path = os.path.join(cwd, \"00_Data/PP_Images\", roi) # path for images\n",
    "filelist = os.listdir(path) # image file names\n",
    "\n",
    "# Create dictionary\n",
    "images = {}\n",
    "for f in filelist:\n",
    "    if not f.endswith(\".tif\"): # different file\n",
    "        continue\n",
    "        \n",
    "    if \"DAPI\" in f: # dapi\n",
    "        dapi = io.imread(os.path.join(path, f))\n",
    "        continue\n",
    "        \n",
    "    markername = f.split(\"_\")[-2].split(\"-\")[1].lower() # getting marker name from filename\n",
    "    images[markername] = io.imread(os.path.join(path, f)) # save image into dict\n",
    "    \n",
    "print(\"Images of the markers {} loaded.\".format(images.keys()))\n"
   ]
  },
  {
   "cell_type": "code",
   "execution_count": 11,
   "metadata": {},
   "outputs": [
    {
     "data": {
      "text/plain": [
       "'/Users/fschulz/Documents/Uni/LundUniversity/Year2/Thesis/00_Data/PP_Images/R1C1ROI2'"
      ]
     },
     "execution_count": 11,
     "metadata": {},
     "output_type": "execute_result"
    }
   ],
   "source": [
    "path"
   ]
  },
  {
   "cell_type": "code",
   "execution_count": 12,
   "metadata": {},
   "outputs": [],
   "source": [
    "# Check shapes\n",
    "maskshape = mask.shape\n",
    "for img in images:\n",
    "    if images[img].shape != maskshape:\n",
    "        print(\"The shape for image {} is wrong. Shape was: {}.\".format(img, images[img].shape))\n",
    "        \n",
    "        \n",
    "        \n",
    "    "
   ]
  },
  {
   "cell_type": "code",
   "execution_count": 207,
   "metadata": {},
   "outputs": [],
   "source": [
    "dont=run\n",
    "blackrow = np.zeros(9427)\n",
    "fib2 = images[\"fibulin2\"]\n",
    "for i in range(29):\n",
    "    fib2 = np.vstack([fib2, blackrow])\n",
    "    \n",
    "images[\"fibulin2\"] = fib2"
   ]
  },
  {
   "cell_type": "code",
   "execution_count": 13,
   "metadata": {},
   "outputs": [
    {
     "name": "stdout",
     "output_type": "stream",
     "text": [
      "trying actin\n",
      "trying cd3\n",
      "trying cd4\n",
      "trying podoplanin\n",
      "trying fibulin2\n",
      "trying cytokeratin\n",
      "trying cd45\n",
      "trying lyve1\n",
      "trying cd45ro\n",
      "trying collageni\n",
      "Done. All data frames saved to /Users/fschulz/Documents/Uni/LundUniversity/Year2/Thesis/00_Data/IntensityDataFrames/R1C1ROI2\n"
     ]
    }
   ],
   "source": [
    "# Create intensities df and save to folder\n",
    "for marker in images:\n",
    "    #if marker in [\"cd3\", \"cd4\", \"collageni\", \"cd45ro\", \"podoplanin\", \"actin\", \"lyve1\", \"cytokeratin\", \"fibulin2\"]:\n",
    "        #continue\n",
    "    print(\"trying\", marker)\n",
    "    try:\n",
    "        intensities = pd.DataFrame(regionprops_table(mask, images[marker], properties=[\"intensity_mean\"]))\n",
    "        dfname = cwd +  \"/00_Data/IntensityDataFrames/\" + roi + \"/\" + marker + \"df.csv\"\n",
    "        intensities.to_csv(dfname)\n",
    "    except:\n",
    "        print(\"didn't work.\")\n",
    "        continue\n",
    "    \n",
    "print(\"Done. All data frames saved to {}/00_Data/IntensityDataFrames/{}\".format(cwd, roi))\n",
    "\n",
    "# problems in R1C1ROI1: cd45, fibulin2 both wrong dim. (7781, 9427) instead of (7810, 9427) -> can just add 29 pixels of black to the bottom\n",
    "# problems in R2C1ROI2: only mask wrong. saved wrong name in MACSiQView\n",
    "\n"
   ]
  }
 ],
 "metadata": {
  "kernelspec": {
   "display_name": "Python (base)",
   "language": "python",
   "name": "base"
  },
  "language_info": {
   "codemirror_mode": {
    "name": "ipython",
    "version": 3
   },
   "file_extension": ".py",
   "mimetype": "text/x-python",
   "name": "python",
   "nbconvert_exporter": "python",
   "pygments_lexer": "ipython3",
   "version": "3.10.12"
  }
 },
 "nbformat": 4,
 "nbformat_minor": 4
}
