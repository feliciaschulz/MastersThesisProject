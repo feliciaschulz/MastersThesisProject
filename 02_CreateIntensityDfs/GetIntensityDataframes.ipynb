{
 "cells": [
  {
   "cell_type": "markdown",
   "metadata": {},
   "source": [
    "# Get intensity data frames from images and masks\n",
    "\n",
    "In this script, raw (stitched) images and their respective segmentation masks are loaded. The script reads the images into the notebook and their dimensions are checked. \n",
    "If the dimensions are correct, the images are measured and their data is saved to data frames. The intensity values for each cell (min, mean, max) are saved, as well as cell area (in pixels) and their centroids. \n",
    "\n",
    "If the dimensions of the images and the mask are not identical, the cells cannot be measured. \n",
    "For the data in this project, this was the case a few times. However, there was only padding missing in the bottoms of some images. This means horizontally at the bottom of the images, rows of black pixels had to be added.\n",
    "This script allows for that to happen, if necessary.\n",
    "If the dimensions are not the same for any other reason, the padding code in this script is not appropriate for fixing the problem.\n",
    "\n",
    "After creating the data frames, they are saved to the data folder.\n",
    "\n",
    "### Usage\n",
    "Please run this script cell-by-cell. No modifications should be required. However, please make sure that the directory structure is the same.\n",
    "\n",
    "### Input\n",
    "This script is initialised with the variable roi, which decides the name of the sample image to be measured.\n",
    "In this script, the correct name of the image available as example data is already assigned to the roi variable.\n",
    "\n",
    "This script requires a labelled segmentation mask as input, which should be saved in \"00_Data/NucleiCytoMasks\". It also takes stitched preprocessed multiplexed stained images as input from the folder \"00_Data/PP_Images\".\n",
    "All images and masks should be the exact same shape.\n",
    "\n",
    "The input files should be .tif files.\n",
    "\n",
    "### Output\n",
    "This script saves one data frame for each biomarker-stained input image to \"00_Data/IntensityDataFrames/\" as csv files."
   ]
  },
  {
   "cell_type": "markdown",
   "metadata": {},
   "source": [
    "### Load packages and define input"
   ]
  },
  {
   "cell_type": "code",
   "execution_count": 10,
   "metadata": {},
   "outputs": [],
   "source": [
    "import numpy as np # v. 1.26.4\n",
    "import skimage # v. 0.22.0\n",
    "from skimage import io, morphology, measure  # v. 0.22.0\n",
    "import os\n",
    "import pandas as pd # v. 2.2.0\n",
    "from skimage.measure import label, regionprops, regionprops_table # v. 0.22.0"
   ]
  },
  {
   "cell_type": "code",
   "execution_count": 11,
   "metadata": {},
   "outputs": [],
   "source": [
    "\"\"\"\n",
    "Here, the roi variable is loaded. This decides which sample is chosen and which input data is loaded.\n",
    "For testing this notebook, please don't change this variable. \n",
    "The current name is the name of the example data available in this repository.\n",
    "\"\"\"\n",
    "\n",
    "# Get current directory. This command does not get the directory this file is in (02_CreateIntensityDfs)\n",
    "# but the one before.\n",
    "cwd = os.path.dirname(os.getcwd())\n",
    "roi = \"R1B1ROI1\" # CHANGE THIS if you want to compute this for other images. (But don't now :) )  "
   ]
  },
  {
   "cell_type": "markdown",
   "metadata": {},
   "source": [
    "### Load data"
   ]
  },
  {
   "cell_type": "code",
   "execution_count": 13,
   "metadata": {},
   "outputs": [],
   "source": [
    "# Load mask as image\n",
    "maskpath = os.path.join(cwd, \"00_Data/NucleiCytoMasks\")\n",
    "masklist = os.listdir(maskpath)\n",
    "# In mask directory, find the correct one\n",
    "for m in masklist:\n",
    "    if m.startswith(roi):\n",
    "        maskpath = os.path.join(maskpath, m)\n",
    "\n",
    "# Read in mask with scikit-image\n",
    "mask = io.imread(maskpath)"
   ]
  },
  {
   "cell_type": "code",
   "execution_count": 14,
   "metadata": {},
   "outputs": [
    {
     "name": "stdout",
     "output_type": "stream",
     "text": [
      "Images of the markers dict_keys(['collageni', 'cd45ro', 'lyve1', 'cd138', 'cytokeratin', 'fibulin2', 'cd45', 'podoplanin', 'cd3', 'cd4', 'cd38', 'actin']) loaded for the image R1B1ROI1\n"
     ]
    }
   ],
   "source": [
    "# Load images into dictionary\n",
    "path = os.path.join(cwd, \"00_Data/PP_Images\", roi) # path for images\n",
    "filelist = os.listdir(path) # image file names\n",
    "\n",
    "# Create dictionary\n",
    "images = {}\n",
    "for f in filelist:\n",
    "    if not f.endswith(\".tif\"): # different file\n",
    "        continue\n",
    "        \n",
    "    if \"DAPI\" in f: # dapi\n",
    "        dapi = io.imread(os.path.join(path, f))\n",
    "        continue\n",
    "        \n",
    "    markername = f.split(\"_\")[-2].split(\"-\")[1].lower() # getting marker name from filename\n",
    "    images[markername] = io.imread(os.path.join(path, f)) # save image into dict\n",
    "    \n",
    "print(\"Images of the markers {} loaded for the image {}\".format(images.keys(), roi))\n"
   ]
  },
  {
   "cell_type": "markdown",
   "metadata": {},
   "source": [
    "### Check image and mask shape compatibility\n",
    "Correct if necessary by padding the image."
   ]
  },
  {
   "cell_type": "code",
   "execution_count": 15,
   "metadata": {},
   "outputs": [
    {
     "name": "stdout",
     "output_type": "stream",
     "text": [
      "collageni is in the correct shape.\n",
      "cd45ro is in the correct shape.\n",
      "lyve1 is in the correct shape.\n",
      "cd138 is in the correct shape.\n",
      "cytokeratin is in the correct shape.\n",
      "fibulin2 is in the correct shape.\n",
      "cd45 is in the correct shape.\n",
      "podoplanin is in the correct shape.\n",
      "cd3 is in the correct shape.\n",
      "cd4 is in the correct shape.\n",
      "cd38 is in the correct shape.\n",
      "actin is in the correct shape.\n"
     ]
    }
   ],
   "source": [
    "# Check shapes & correct if necessary\n",
    "# If the images are not all the exact same shape as the mask, it doesn't work.\n",
    "correctit = True # Only have this option on if you are confident that the mask is just padded, not that the images are shifted\n",
    "maskshape = mask.shape\n",
    "\n",
    "for img in images:\n",
    "    if images[img].shape != maskshape:\n",
    "        print(\"The shape for image {} is wrong. Image shape: {}. Mask shape: {}\".format(img, images[img].shape, maskshape))\n",
    "        \n",
    "        if images[img].shape[0] < maskshape[0] and images[img].shape[1] == maskshape[1]:\n",
    "            # This means there is a wrong number of rows (heigh of image wrong), mask has padding that image does not\n",
    "            if correctit == True:\n",
    "                diff = maskshape[0] - images[img].shape[0]\n",
    "                blackrow = np.zeros(maskshape[1]) # Empty row of 0s, aka black row of pixels, with same length as image width\n",
    "                paddedimg = images[img]\n",
    "                \n",
    "                # Add as many black rows to bottom of image as there is padding missing\n",
    "                for i in range(diff):\n",
    "                    paddedimg = np.vstack([paddedimg, blackrow])\n",
    "                    \n",
    "                # Save new padded image in images dictionary\n",
    "                images[img] = paddedimg\n",
    "                if images[img].shape == maskshape:\n",
    "                    print(\"Shape has been corrected.\")\n",
    "                    \n",
    "    else:\n",
    "        print(\"{} is in the correct shape.\".format(img))\n",
    "                    \n",
    "                \n",
    "    "
   ]
  },
  {
   "cell_type": "markdown",
   "metadata": {},
   "source": [
    "### Create data frames and save to folder"
   ]
  },
  {
   "cell_type": "code",
   "execution_count": 20,
   "metadata": {},
   "outputs": [
    {
     "name": "stdout",
     "output_type": "stream",
     "text": [
      "Trying collageni\n",
      "Trying cd45ro\n",
      "Trying lyve1\n",
      "Trying cd138\n",
      "Trying cytokeratin\n",
      "Trying fibulin2\n",
      "Trying cd45\n",
      "Trying podoplanin\n",
      "Trying cd3\n",
      "Trying cd4\n",
      "Trying cd38\n",
      "Trying actin\n",
      "Done. All data frames saved to /Users/fschulz/Documents/Uni/LundUniversity/Year2/Thesis/00_Data/IntensityDataFrames/R1B1ROI1\n"
     ]
    }
   ],
   "source": [
    "# Create intensities df and save to folder\n",
    "# Important: the folder has to exist before you save the files.\n",
    "for marker in images:\n",
    "    print(\"Trying\", marker)\n",
    "    try:\n",
    "        # Measure images with regionprops_table\n",
    "        intensities = pd.DataFrame(regionprops_table(mask, images[marker], properties=[\"intensity_mean\", \"intensity_min\", \"intensity_max\", \"area\", \"centroid\"]))\n",
    "        dfname = cwd +  \"/00_Data/IntensityDataFrames/\" + roi + \"/\" + marker + \"df.csv\"\n",
    "        intensities.to_csv(dfname) # Save to folder\n",
    "    except:\n",
    "        print(\"Didn't work. Compare the shape of the image {} with the shape of the mask again.\".format(marker))\n",
    "        continue\n",
    "    \n",
    "print(\"Done. All data frames saved to {}/00_Data/IntensityDataFrames/{}\".format(cwd, roi))\n",
    "\n"
   ]
  }
 ],
 "metadata": {
  "kernelspec": {
   "display_name": "Python (base)",
   "language": "python",
   "name": "base"
  },
  "language_info": {
   "codemirror_mode": {
    "name": "ipython",
    "version": 3
   },
   "file_extension": ".py",
   "mimetype": "text/x-python",
   "name": "python",
   "nbconvert_exporter": "python",
   "pygments_lexer": "ipython3",
   "version": "3.10.12"
  }
 },
 "nbformat": 4,
 "nbformat_minor": 4
}
